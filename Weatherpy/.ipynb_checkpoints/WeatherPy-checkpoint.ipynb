{
 "cells": [
  {
   "cell_type": "markdown",
   "metadata": {},
   "source": [
    "# WeatherPy\n",
    "----\n",
    "\n",
    "#### Note\n",
    "* Instructions have been included for each segment. You do not have to follow them exactly, but they are included to help you think through the steps."
   ]
  },
  {
   "cell_type": "code",
   "execution_count": 3,
   "metadata": {
    "scrolled": true
   },
   "outputs": [],
   "source": [
    "# Dependencies and Setup\n",
    "import matplotlib.pyplot as plt\n",
    "import pandas as pd\n",
    "import numpy as np\n",
    "import requests\n",
    "import time\n",
    "from scipy.stats import linregress\n",
    "from api_keys import g_key\n",
    "import json\n",
    "from pprint import pprint\n",
    "from scipy import stats\n",
    "\n",
    "\n",
    "# Import API key\n",
    "from api_keys import weather_api_key\n",
    "\n",
    "# Incorporated citipy to determine city based on latitude and longitude\n",
    "from citipy import citipy\n",
    "\n",
    "# Output File (CSV)\n",
    "output_data_file = \"output_data/cities.csv\"\n",
    "\n",
    "# Range of latitudes and longitudes\n",
    "lat_range = (-90, 90)\n",
    "lng_range = (-180, 180)\n",
    "\n",
    "\n",
    "url = \"http://api.openweathermap.org/data/2.5/weather?\"\n",
    "units = \"metric\"\n",
    "\n",
    "# Build partial query URL\n",
    "query_url = f\"{url}appid={weather_api_key}&units={units}&q=\"\n",
    "\n",
    "count_one = 0\n",
    "set_one = 1"
   ]
  },
  {
   "cell_type": "markdown",
   "metadata": {},
   "source": [
    "## Generate Cities List"
   ]
  },
  {
   "cell_type": "code",
   "execution_count": 4,
   "metadata": {},
   "outputs": [
    {
     "data": {
      "text/plain": [
       "605"
      ]
     },
     "execution_count": 4,
     "metadata": {},
     "output_type": "execute_result"
    }
   ],
   "source": [
    "# List for holding lat_lngs and cities\n",
    "lat_lngs = []\n",
    "cities = []\n",
    "\n",
    "# Create a set of random lat and lng combinations\n",
    "lats = np.random.uniform(low=-90.000, high=90.000, size=1500)\n",
    "lngs = np.random.uniform(low=-180.000, high=180.000, size=1500)\n",
    "lat_lngs = zip(lats, lngs)\n",
    "\n",
    "# Identify nearest city for each lat, lng combination\n",
    "for lat_lng in lat_lngs:\n",
    "    city = citipy.nearest_city(lat_lng[0], lat_lng[1]).city_name\n",
    "    \n",
    "    # If the city is unique, then add it to a our cities list\n",
    "    if city not in cities:\n",
    "        cities.append(city)\n",
    "\n",
    "# Print the city count to confirm sufficient count\n",
    "len(cities)"
   ]
  },
  {
   "cell_type": "markdown",
   "metadata": {},
   "source": [
    "### Perform API Calls\n",
    "* Perform a weather check on each city using a series of successive API calls.\n",
    "* Include a print log of each city as it'sbeing processed (with the city number and city name).\n"
   ]
  },
  {
   "cell_type": "code",
   "execution_count": 5,
   "metadata": {
    "scrolled": false
   },
   "outputs": [
    {
     "name": "stdout",
     "output_type": "stream",
     "text": [
      "Processing Record 1 of Set 1 | ribeira grande\n",
      "Processing Record 2 of Set 1 | puerto ayora\n",
      "Processing Record 3 of Set 1 | bredasdorp\n",
      "Processing Record 4 of Set 1 | rikitea\n",
      "Processing Record 5 of Set 1 | katsuura\n",
      "Processing Record 6 of Set 1 | grand gaube\n",
      "Processing Record 7 of Set 1 | hermanus\n",
      "Processing Record 8 of Set 1 | valparaiso\n",
      "Processing Record 9 of Set 1 | veraval\n",
      "Processing Record 10 of Set 1 | busselton\n",
      "Processing Record 11 of Set 1 | qaanaaq\n",
      "Processing Record 12 of Set 1 | mataura\n",
      "City not found. Skipping...\n",
      "Processing Record 13 of Set 1 | ushuaia\n",
      "Processing Record 14 of Set 1 | ambon\n",
      "Processing Record 15 of Set 1 | sao paulo de olivenca\n",
      "Processing Record 16 of Set 1 | port alfred\n",
      "Processing Record 17 of Set 1 | nikolskoye\n",
      "Processing Record 18 of Set 1 | hilo\n",
      "Processing Record 19 of Set 1 | port-gentil\n",
      "Processing Record 20 of Set 1 | koungou\n",
      "Processing Record 21 of Set 1 | hanmer springs\n",
      "Processing Record 22 of Set 1 | burnie\n",
      "Processing Record 23 of Set 1 | barrow\n",
      "Processing Record 24 of Set 1 | balkhash\n",
      "Processing Record 25 of Set 1 | port lincoln\n",
      "Processing Record 26 of Set 1 | digha\n",
      "Processing Record 27 of Set 1 | belaya gora\n",
      "Processing Record 28 of Set 1 | punta arenas\n",
      "Processing Record 29 of Set 1 | ocara\n",
      "Processing Record 30 of Set 1 | airai\n",
      "Processing Record 31 of Set 1 | thompson\n",
      "Processing Record 32 of Set 1 | tuktoyaktuk\n",
      "Processing Record 33 of Set 1 | makakilo city\n",
      "Processing Record 34 of Set 1 | grootfontein\n",
      "Processing Record 35 of Set 1 | labuhan\n",
      "Processing Record 36 of Set 1 | kovur\n",
      "Processing Record 37 of Set 1 | salta\n",
      "Processing Record 38 of Set 1 | bulanash\n",
      "Processing Record 39 of Set 1 | yellowknife\n",
      "Processing Record 40 of Set 1 | lorengau\n",
      "Processing Record 41 of Set 1 | halifax\n",
      "Processing Record 42 of Set 1 | cabedelo\n",
      "Processing Record 43 of Set 1 | khatanga\n",
      "Processing Record 44 of Set 1 | upernavik\n",
      "Processing Record 45 of Set 1 | yulara\n",
      "Processing Record 46 of Set 1 | vaini\n",
      "Processing Record 47 of Set 1 | nanortalik\n",
      "Processing Record 48 of Set 1 | jamestown\n",
      "Processing Record 49 of Set 1 | kodiak\n",
      "Processing Record 1 of Set 2 | mount gambier\n",
      "Processing Record 2 of Set 2 | sydney mines\n",
      "Processing Record 3 of Set 2 | lata\n",
      "Processing Record 4 of Set 2 | pilar\n",
      "Processing Record 5 of Set 2 | dunedin\n",
      "Processing Record 6 of Set 2 | new norfolk\n",
      "Processing Record 7 of Set 2 | kemijarvi\n",
      "Processing Record 8 of Set 2 | khani\n",
      "City not found. Skipping...\n",
      "Processing Record 9 of Set 2 | rio gallegos\n",
      "Processing Record 10 of Set 2 | albany\n",
      "Processing Record 11 of Set 2 | waingapu\n",
      "Processing Record 12 of Set 2 | butaritari\n",
      "Processing Record 13 of Set 2 | requena\n",
      "Processing Record 14 of Set 2 | avarua\n",
      "Processing Record 15 of Set 2 | vao\n",
      "Processing Record 16 of Set 2 | kamaishi\n",
      "Processing Record 17 of Set 2 | cabo san lucas\n",
      "Processing Record 18 of Set 2 | dikson\n",
      "Processing Record 19 of Set 2 | mar del plata\n",
      "Processing Record 20 of Set 2 | bluff\n",
      "City not found. Skipping...\n",
      "City not found. Skipping...\n",
      "City not found. Skipping...\n",
      "Processing Record 21 of Set 2 | atuona\n",
      "City not found. Skipping...\n",
      "Processing Record 22 of Set 2 | tahoua\n",
      "Processing Record 23 of Set 2 | shagamu\n",
      "Processing Record 24 of Set 2 | montepuez\n",
      "City not found. Skipping...\n",
      "Processing Record 25 of Set 2 | saint-joseph\n",
      "Processing Record 26 of Set 2 | norman wells\n",
      "Processing Record 27 of Set 2 | egvekinot\n",
      "Processing Record 28 of Set 2 | kapaa\n",
      "Processing Record 29 of Set 2 | ende\n",
      "Processing Record 30 of Set 2 | abu kamal\n",
      "Processing Record 31 of Set 2 | hasaki\n",
      "City not found. Skipping...\n",
      "Processing Record 32 of Set 2 | longyearbyen\n",
      "Processing Record 33 of Set 2 | saint-philippe\n",
      "Processing Record 34 of Set 2 | tuatapere\n",
      "Processing Record 35 of Set 2 | clyde river\n",
      "Processing Record 36 of Set 2 | carnduff\n",
      "Processing Record 37 of Set 2 | nekhayevskiy\n",
      "Processing Record 38 of Set 2 | conde\n",
      "Processing Record 39 of Set 2 | hithadhoo\n",
      "City not found. Skipping...\n",
      "City not found. Skipping...\n",
      "Processing Record 40 of Set 2 | hobart\n",
      "Processing Record 41 of Set 2 | ayagoz\n",
      "Processing Record 42 of Set 2 | verkh-usugli\n",
      "Processing Record 43 of Set 2 | braniewo\n",
      "Processing Record 44 of Set 2 | cherskiy\n",
      "Processing Record 45 of Set 2 | saint-francois\n",
      "Processing Record 46 of Set 2 | sioux lookout\n",
      "City not found. Skipping...\n",
      "Processing Record 47 of Set 2 | kargopol\n",
      "Processing Record 48 of Set 2 | gwadar\n",
      "Processing Record 49 of Set 2 | sao filipe\n",
      "Processing Record 1 of Set 3 | elektrogorsk\n",
      "Processing Record 2 of Set 3 | torbay\n",
      "City not found. Skipping...\n",
      "Processing Record 3 of Set 3 | alice springs\n",
      "Processing Record 4 of Set 3 | fort nelson\n",
      "Processing Record 5 of Set 3 | lashio\n",
      "Processing Record 6 of Set 3 | tasiilaq\n",
      "City not found. Skipping...\n",
      "Processing Record 7 of Set 3 | port elizabeth\n",
      "Processing Record 8 of Set 3 | mys shmidta\n",
      "Processing Record 9 of Set 3 | valdivia\n",
      "Processing Record 10 of Set 3 | salinas\n",
      "Processing Record 11 of Set 3 | souillac\n",
      "Processing Record 12 of Set 3 | ferme-neuve\n",
      "Processing Record 13 of Set 3 | cockburn town\n",
      "Processing Record 14 of Set 3 | kovernino\n",
      "Processing Record 15 of Set 3 | faanui\n",
      "Processing Record 16 of Set 3 | normandin\n",
      "Processing Record 17 of Set 3 | alofi\n",
      "Processing Record 18 of Set 3 | dahra\n",
      "Processing Record 19 of Set 3 | georgetown\n",
      "Processing Record 20 of Set 3 | kigali\n",
      "Processing Record 21 of Set 3 | naliya\n",
      "Processing Record 22 of Set 3 | grand centre\n",
      "Processing Record 23 of Set 3 | vardo\n",
      "Processing Record 24 of Set 3 | ponnampet\n",
      "Processing Record 25 of Set 3 | bushehr\n",
      "City not found. Skipping...\n",
      "Processing Record 26 of Set 3 | omsukchan\n",
      "Processing Record 27 of Set 3 | constitucion\n",
      "Processing Record 28 of Set 3 | lebu\n",
      "Processing Record 29 of Set 3 | ahipara\n",
      "Processing Record 30 of Set 3 | pravokumskoye\n",
      "Processing Record 31 of Set 3 | meulaboh\n",
      "City not found. Skipping...\n",
      "Processing Record 32 of Set 3 | cape town\n",
      "Processing Record 33 of Set 3 | arraial do cabo\n",
      "City not found. Skipping...\n",
      "Processing Record 34 of Set 3 | hamilton\n",
      "Processing Record 35 of Set 3 | bahia blanca\n",
      "City not found. Skipping...\n",
      "Processing Record 36 of Set 3 | kuah\n",
      "Processing Record 37 of Set 3 | sinjar\n",
      "Processing Record 38 of Set 3 | jati\n",
      "Processing Record 39 of Set 3 | playa del carmen\n",
      "Processing Record 40 of Set 3 | fershampenuaz\n",
      "Processing Record 41 of Set 3 | tessalit\n",
      "Processing Record 42 of Set 3 | puerto narino\n",
      "Processing Record 43 of Set 3 | khalabat\n",
      "Processing Record 44 of Set 3 | alekseyevka\n",
      "Processing Record 45 of Set 3 | vestmannaeyjar\n",
      "Processing Record 46 of Set 3 | atambua\n",
      "Processing Record 47 of Set 3 | namibe\n",
      "Processing Record 48 of Set 3 | bonavista\n",
      "Processing Record 49 of Set 3 | skibbereen\n",
      "City not found. Skipping...\n",
      "Processing Record 1 of Set 4 | afyonkarahisar\n",
      "Processing Record 2 of Set 4 | codrington\n",
      "Processing Record 3 of Set 4 | lompoc\n",
      "Processing Record 4 of Set 4 | carnarvon\n",
      "Processing Record 5 of Set 4 | whitehorse\n",
      "Processing Record 6 of Set 4 | aranos\n",
      "Processing Record 7 of Set 4 | geraldton\n",
      "Processing Record 8 of Set 4 | foso\n",
      "Processing Record 9 of Set 4 | dalby\n",
      "Processing Record 10 of Set 4 | esperance\n",
      "Processing Record 11 of Set 4 | mount isa\n",
      "Processing Record 12 of Set 4 | paamiut\n",
      "City not found. Skipping...\n",
      "Processing Record 13 of Set 4 | tevaitoa\n",
      "Processing Record 14 of Set 4 | sur\n",
      "Processing Record 15 of Set 4 | kuching\n",
      "Processing Record 16 of Set 4 | biak\n",
      "Processing Record 17 of Set 4 | iqaluit\n",
      "Processing Record 18 of Set 4 | jasper\n",
      "Processing Record 19 of Set 4 | kuzovatovo\n",
      "Processing Record 20 of Set 4 | kaitangata\n",
      "Processing Record 21 of Set 4 | soma\n",
      "Processing Record 22 of Set 4 | sao joao da barra\n",
      "City not found. Skipping...\n",
      "Processing Record 23 of Set 4 | luderitz\n",
      "Processing Record 24 of Set 4 | amherst center\n",
      "Processing Record 25 of Set 4 | kamenka\n",
      "Processing Record 26 of Set 4 | champasak\n",
      "Processing Record 27 of Set 4 | coihaique\n",
      "Processing Record 28 of Set 4 | hofn\n",
      "Processing Record 29 of Set 4 | severo-kurilsk\n",
      "City not found. Skipping...\n",
      "Processing Record 30 of Set 4 | saskylakh\n",
      "Processing Record 31 of Set 4 | acari\n",
      "Processing Record 32 of Set 4 | chokurdakh\n",
      "Processing Record 33 of Set 4 | necochea\n",
      "Processing Record 34 of Set 4 | bethel\n",
      "Processing Record 35 of Set 4 | latung\n",
      "Processing Record 36 of Set 4 | ketanggungan\n",
      "Processing Record 37 of Set 4 | moche\n",
      "Processing Record 38 of Set 4 | koutiala\n"
     ]
    },
    {
     "name": "stdout",
     "output_type": "stream",
     "text": [
      "Processing Record 39 of Set 4 | tateyama\n",
      "Processing Record 40 of Set 4 | bathsheba\n",
      "Processing Record 41 of Set 4 | bengkulu\n",
      "Processing Record 42 of Set 4 | tenkodogo\n",
      "Processing Record 43 of Set 4 | berdigestyakh\n",
      "Processing Record 44 of Set 4 | alexandria\n",
      "Processing Record 45 of Set 4 | haines junction\n",
      "Processing Record 46 of Set 4 | ponerihouen\n",
      "Processing Record 47 of Set 4 | vallenar\n",
      "Processing Record 48 of Set 4 | trunovskoye\n",
      "Processing Record 49 of Set 4 | salalah\n",
      "Processing Record 1 of Set 5 | ponta do sol\n",
      "City not found. Skipping...\n",
      "City not found. Skipping...\n",
      "Processing Record 2 of Set 5 | petropavlovsk-kamchatskiy\n",
      "Processing Record 3 of Set 5 | tymovskoye\n",
      "Processing Record 4 of Set 5 | ikskile\n",
      "Processing Record 5 of Set 5 | padre bernardo\n",
      "Processing Record 6 of Set 5 | lar\n",
      "Processing Record 7 of Set 5 | praia da vitoria\n",
      "Processing Record 8 of Set 5 | chuy\n",
      "Processing Record 9 of Set 5 | chiredzi\n",
      "Processing Record 10 of Set 5 | castro\n",
      "Processing Record 11 of Set 5 | ilulissat\n",
      "Processing Record 12 of Set 5 | ilebo\n",
      "Processing Record 13 of Set 5 | abu samrah\n",
      "City not found. Skipping...\n",
      "Processing Record 14 of Set 5 | saldanha\n",
      "Processing Record 15 of Set 5 | lago da pedra\n",
      "Processing Record 16 of Set 5 | pitimbu\n",
      "Processing Record 17 of Set 5 | semey\n",
      "Processing Record 18 of Set 5 | ginir\n",
      "Processing Record 19 of Set 5 | sumbe\n",
      "Processing Record 20 of Set 5 | oga\n",
      "Processing Record 21 of Set 5 | ketchikan\n",
      "Processing Record 22 of Set 5 | mahebourg\n",
      "Processing Record 23 of Set 5 | provideniya\n",
      "Processing Record 24 of Set 5 | novyy urengoy\n",
      "Processing Record 25 of Set 5 | pevek\n",
      "Processing Record 26 of Set 5 | padang\n",
      "Processing Record 27 of Set 5 | balikpapan\n",
      "Processing Record 28 of Set 5 | mackay\n",
      "Processing Record 29 of Set 5 | sitka\n",
      "Processing Record 30 of Set 5 | sokoni\n",
      "Processing Record 31 of Set 5 | nouakchott\n",
      "Processing Record 32 of Set 5 | touros\n",
      "City not found. Skipping...\n",
      "Processing Record 33 of Set 5 | klaksvik\n",
      "Processing Record 34 of Set 5 | taree\n",
      "City not found. Skipping...\n",
      "Processing Record 35 of Set 5 | almaznyy\n",
      "Processing Record 36 of Set 5 | port macquarie\n",
      "Processing Record 37 of Set 5 | kavieng\n",
      "Processing Record 38 of Set 5 | batagay-alyta\n",
      "Processing Record 39 of Set 5 | vostok\n",
      "Processing Record 40 of Set 5 | tiksi\n",
      "Processing Record 41 of Set 5 | cayenne\n",
      "Processing Record 42 of Set 5 | talnakh\n",
      "Processing Record 43 of Set 5 | vila franca do campo\n",
      "Processing Record 44 of Set 5 | mahajanga\n",
      "Processing Record 45 of Set 5 | menongue\n",
      "Processing Record 46 of Set 5 | komsomolskiy\n",
      "Processing Record 47 of Set 5 | kaspiyskiy\n",
      "Processing Record 48 of Set 5 | orlik\n",
      "Processing Record 49 of Set 5 | nemuro\n",
      "Processing Record 1 of Set 6 | turayf\n",
      "Processing Record 2 of Set 6 | erzin\n",
      "Processing Record 3 of Set 6 | altus\n",
      "City not found. Skipping...\n",
      "Processing Record 4 of Set 6 | grindavik\n",
      "Processing Record 5 of Set 6 | baykit\n",
      "Processing Record 6 of Set 6 | jennings\n",
      "Processing Record 7 of Set 6 | shingu\n",
      "Processing Record 8 of Set 6 | luxor\n",
      "Processing Record 9 of Set 6 | saint-augustin\n",
      "Processing Record 10 of Set 6 | tecoanapa\n",
      "Processing Record 11 of Set 6 | vila\n",
      "Processing Record 12 of Set 6 | lagoa\n",
      "Processing Record 13 of Set 6 | usinsk\n",
      "Processing Record 14 of Set 6 | chegdomyn\n",
      "Processing Record 15 of Set 6 | carrefour\n",
      "Processing Record 16 of Set 6 | leningradskiy\n",
      "Processing Record 17 of Set 6 | mizdah\n",
      "City not found. Skipping...\n",
      "Processing Record 18 of Set 6 | pangkalanbuun\n",
      "Processing Record 19 of Set 6 | kaoma\n",
      "City not found. Skipping...\n",
      "Processing Record 20 of Set 6 | grand river south east\n",
      "Processing Record 21 of Set 6 | fairbanks\n",
      "City not found. Skipping...\n",
      "Processing Record 22 of Set 6 | novotroitskaya\n",
      "City not found. Skipping...\n",
      "Processing Record 23 of Set 6 | maniitsoq\n",
      "Processing Record 24 of Set 6 | corn island\n",
      "Processing Record 25 of Set 6 | liku\n",
      "Processing Record 26 of Set 6 | jumla\n",
      "Processing Record 27 of Set 6 | carballo\n",
      "Processing Record 28 of Set 6 | flinders\n",
      "Processing Record 29 of Set 6 | aklavik\n",
      "Processing Record 30 of Set 6 | brooks\n",
      "Processing Record 31 of Set 6 | salvador\n",
      "Processing Record 32 of Set 6 | coquimbo\n",
      "Processing Record 33 of Set 6 | ulladulla\n",
      "Processing Record 34 of Set 6 | jining\n",
      "Processing Record 35 of Set 6 | phek\n",
      "Processing Record 36 of Set 6 | blackwater\n",
      "Processing Record 37 of Set 6 | imbituba\n",
      "Processing Record 38 of Set 6 | dunyapur\n",
      "Processing Record 39 of Set 6 | anchorage\n",
      "Processing Record 40 of Set 6 | bambous virieux\n",
      "Processing Record 41 of Set 6 | struer\n",
      "City not found. Skipping...\n",
      "Processing Record 42 of Set 6 | dongning\n",
      "Processing Record 43 of Set 6 | havre-saint-pierre\n",
      "Processing Record 44 of Set 6 | kananga\n",
      "Processing Record 45 of Set 6 | laguna\n",
      "Processing Record 46 of Set 6 | akyab\n",
      "Processing Record 47 of Set 6 | kirakira\n",
      "Processing Record 48 of Set 6 | belmonte\n",
      "Processing Record 49 of Set 6 | gorontalo\n",
      "Processing Record 1 of Set 7 | kholodnyy\n",
      "Processing Record 2 of Set 7 | ostrovnoy\n",
      "Processing Record 3 of Set 7 | seaside\n",
      "City not found. Skipping...\n",
      "Processing Record 4 of Set 7 | victoria\n",
      "Processing Record 5 of Set 7 | lannion\n",
      "Processing Record 6 of Set 7 | sabang\n",
      "Processing Record 7 of Set 7 | stutterheim\n",
      "Processing Record 8 of Set 7 | juneau\n",
      "Processing Record 9 of Set 7 | dangriga\n",
      "Processing Record 10 of Set 7 | marolambo\n",
      "Processing Record 11 of Set 7 | monte patria\n",
      "Processing Record 12 of Set 7 | benguela\n",
      "Processing Record 13 of Set 7 | malakal\n",
      "Processing Record 14 of Set 7 | piacabucu\n",
      "Processing Record 15 of Set 7 | turukhansk\n",
      "Processing Record 16 of Set 7 | rio grande\n",
      "Processing Record 17 of Set 7 | shache\n",
      "Processing Record 18 of Set 7 | culiacancito\n",
      "Processing Record 19 of Set 7 | masaki\n",
      "City not found. Skipping...\n",
      "Processing Record 20 of Set 7 | manokwari\n",
      "Processing Record 21 of Set 7 | westport\n",
      "Processing Record 22 of Set 7 | solnechnyy\n",
      "Processing Record 23 of Set 7 | ales\n",
      "Processing Record 24 of Set 7 | bomet\n",
      "Processing Record 25 of Set 7 | klyuchi\n",
      "Processing Record 26 of Set 7 | ramos arizpe\n",
      "Processing Record 27 of Set 7 | shangqiu\n",
      "Processing Record 28 of Set 7 | mmabatho\n",
      "Processing Record 29 of Set 7 | fortuna\n",
      "Processing Record 30 of Set 7 | moron\n",
      "Processing Record 31 of Set 7 | sarkand\n",
      "Processing Record 32 of Set 7 | nhulunbuy\n",
      "Processing Record 33 of Set 7 | lapeer\n",
      "Processing Record 34 of Set 7 | katobu\n",
      "Processing Record 35 of Set 7 | inhambane\n",
      "Processing Record 36 of Set 7 | kampot\n",
      "Processing Record 37 of Set 7 | linxia\n",
      "Processing Record 38 of Set 7 | milkovo\n",
      "Processing Record 39 of Set 7 | harrisburg\n",
      "Processing Record 40 of Set 7 | atar\n",
      "Processing Record 41 of Set 7 | lovozero\n",
      "Processing Record 42 of Set 7 | benalla\n",
      "City not found. Skipping...\n",
      "City not found. Skipping...\n",
      "City not found. Skipping...\n",
      "Processing Record 43 of Set 7 | pueblo bello\n",
      "Processing Record 44 of Set 7 | pemberton\n",
      "City not found. Skipping...\n",
      "Processing Record 45 of Set 7 | batticaloa\n",
      "Processing Record 46 of Set 7 | champerico\n",
      "Processing Record 47 of Set 7 | east london\n",
      "Processing Record 48 of Set 7 | luanda\n",
      "Processing Record 49 of Set 7 | nakusp\n",
      "Processing Record 1 of Set 8 | juba\n",
      "Processing Record 2 of Set 8 | arrifes\n",
      "Processing Record 3 of Set 8 | oranjestad\n",
      "Processing Record 4 of Set 8 | acapulco\n",
      "Processing Record 5 of Set 8 | aykhal\n",
      "Processing Record 6 of Set 8 | opuwo\n",
      "Processing Record 7 of Set 8 | zhanaozen\n",
      "City not found. Skipping...\n",
      "Processing Record 8 of Set 8 | shakawe\n",
      "Processing Record 9 of Set 8 | portland\n",
      "Processing Record 10 of Set 8 | guru har sahai\n",
      "Processing Record 11 of Set 8 | ndende\n",
      "Processing Record 12 of Set 8 | puerto el triunfo\n",
      "Processing Record 13 of Set 8 | san patricio\n",
      "Processing Record 14 of Set 8 | villa alemana\n",
      "City not found. Skipping...\n",
      "City not found. Skipping...\n",
      "Processing Record 15 of Set 8 | astana\n",
      "Processing Record 16 of Set 8 | sibolga\n",
      "Processing Record 17 of Set 8 | kentau\n",
      "Processing Record 18 of Set 8 | bonthe\n",
      "Processing Record 19 of Set 8 | pahrump\n",
      "Processing Record 20 of Set 8 | surab\n",
      "Processing Record 21 of Set 8 | broome\n",
      "Processing Record 22 of Set 8 | belyy yar\n",
      "Processing Record 23 of Set 8 | hay river\n",
      "City not found. Skipping...\n",
      "Processing Record 24 of Set 8 | isangel\n",
      "Processing Record 25 of Set 8 | kruisfontein\n",
      "Processing Record 26 of Set 8 | guerrero negro\n",
      "Processing Record 27 of Set 8 | lakes entrance\n",
      "Processing Record 28 of Set 8 | mehamn\n",
      "City not found. Skipping...\n",
      "Processing Record 29 of Set 8 | sawakin\n"
     ]
    },
    {
     "name": "stdout",
     "output_type": "stream",
     "text": [
      "Processing Record 30 of Set 8 | tuy hoa\n",
      "Processing Record 31 of Set 8 | madang\n",
      "Processing Record 32 of Set 8 | kholmogory\n",
      "Processing Record 33 of Set 8 | joensuu\n",
      "Processing Record 34 of Set 8 | rapar\n",
      "Processing Record 35 of Set 8 | pisco\n",
      "City not found. Skipping...\n",
      "Processing Record 36 of Set 8 | bermeo\n",
      "City not found. Skipping...\n",
      "Processing Record 37 of Set 8 | kangaatsiaq\n",
      "Processing Record 38 of Set 8 | cave spring\n",
      "Processing Record 39 of Set 8 | buchanan\n",
      "Processing Record 40 of Set 8 | cafarnaum\n",
      "Processing Record 41 of Set 8 | nuuk\n",
      "Processing Record 42 of Set 8 | ancud\n",
      "Processing Record 43 of Set 8 | hovd\n",
      "Processing Record 44 of Set 8 | bulaevo\n",
      "City not found. Skipping...\n",
      "Processing Record 45 of Set 8 | regeneracao\n",
      "Processing Record 46 of Set 8 | roma\n",
      "Processing Record 47 of Set 8 | talakan\n",
      "Processing Record 48 of Set 8 | ishigaki\n",
      "Processing Record 49 of Set 8 | phuket\n",
      "Processing Record 1 of Set 9 | bandarbeyla\n",
      "Processing Record 2 of Set 9 | wakema\n",
      "Processing Record 3 of Set 9 | camopi\n",
      "Processing Record 4 of Set 9 | novy hrozenkov\n",
      "Processing Record 5 of Set 9 | nara\n",
      "Processing Record 6 of Set 9 | bac lieu\n",
      "Processing Record 7 of Set 9 | tezu\n",
      "Processing Record 8 of Set 9 | cardston\n",
      "Processing Record 9 of Set 9 | pochutla\n",
      "Processing Record 10 of Set 9 | chokwe\n",
      "Processing Record 11 of Set 9 | port blair\n",
      "City not found. Skipping...\n",
      "Processing Record 12 of Set 9 | sungaipenuh\n",
      "Processing Record 13 of Set 9 | kaeo\n",
      "City not found. Skipping...\n",
      "Processing Record 14 of Set 9 | galesong\n",
      "Processing Record 15 of Set 9 | pavlodar\n",
      "Processing Record 16 of Set 9 | kangavar\n",
      "Processing Record 17 of Set 9 | noshiro\n",
      "Processing Record 18 of Set 9 | tynda\n",
      "Processing Record 19 of Set 9 | gold coast\n",
      "Processing Record 20 of Set 9 | fort oglethorpe\n",
      "Processing Record 21 of Set 9 | matamoros\n",
      "Processing Record 22 of Set 9 | aginskoye\n",
      "Processing Record 23 of Set 9 | foshan\n",
      "Processing Record 24 of Set 9 | ascension\n",
      "Processing Record 25 of Set 9 | talara\n",
      "Processing Record 26 of Set 9 | saquena\n",
      "Processing Record 27 of Set 9 | mongo\n",
      "Processing Record 28 of Set 9 | hualmay\n",
      "Processing Record 29 of Set 9 | bur gabo\n",
      "Processing Record 30 of Set 9 | qaqortoq\n",
      "Processing Record 31 of Set 9 | aanekoski\n",
      "Processing Record 32 of Set 9 | srednekolymsk\n",
      "Processing Record 33 of Set 9 | tabou\n",
      "Processing Record 34 of Set 9 | chippenham\n",
      "Processing Record 35 of Set 9 | yingcheng\n",
      "Processing Record 36 of Set 9 | bati\n",
      "Processing Record 37 of Set 9 | badiraguato\n",
      "City not found. Skipping...\n",
      "City not found. Skipping...\n",
      "Processing Record 38 of Set 9 | mbanza-ngungu\n",
      "City not found. Skipping...\n",
      "City not found. Skipping...\n",
      "City not found. Skipping...\n",
      "Processing Record 39 of Set 9 | santander jimenez\n",
      "City not found. Skipping...\n",
      "Processing Record 40 of Set 9 | cidreira\n",
      "Processing Record 41 of Set 9 | novocheboksarsk\n",
      "Processing Record 42 of Set 9 | suratgarh\n",
      "Processing Record 43 of Set 9 | luancheng\n",
      "Processing Record 44 of Set 9 | port-cartier\n",
      "Processing Record 45 of Set 9 | tukrah\n",
      "Processing Record 46 of Set 9 | manika\n",
      "Processing Record 47 of Set 9 | mbandaka\n",
      "Processing Record 48 of Set 9 | neiafu\n",
      "City not found. Skipping...\n",
      "Processing Record 49 of Set 9 | ambilobe\n",
      "Processing Record 1 of Set 10 | wad madani\n",
      "Processing Record 2 of Set 10 | naze\n",
      "Processing Record 3 of Set 10 | beloha\n",
      "Processing Record 4 of Set 10 | khandagayty\n",
      "Processing Record 5 of Set 10 | ginda\n",
      "Processing Record 6 of Set 10 | nyurba\n",
      "Processing Record 7 of Set 10 | vega de alatorre\n",
      "Processing Record 8 of Set 10 | aberystwyth\n",
      "Processing Record 9 of Set 10 | magadan\n",
      "Processing Record 10 of Set 10 | baracoa\n",
      "Processing Record 11 of Set 10 | cleethorpes\n",
      "City not found. Skipping...\n",
      "Processing Record 12 of Set 10 | galle\n",
      "Processing Record 13 of Set 10 | ulaangom\n",
      "City not found. Skipping...\n",
      "Processing Record 14 of Set 10 | bouna\n",
      "City not found. Skipping...\n",
      "Processing Record 15 of Set 10 | natal\n",
      "Processing Record 16 of Set 10 | karratha\n",
      "Processing Record 17 of Set 10 | nouna\n",
      "Processing Record 18 of Set 10 | novo aripuana\n",
      "Processing Record 19 of Set 10 | vila velha\n",
      "Processing Record 20 of Set 10 | nurota\n",
      "Processing Record 21 of Set 10 | narsaq\n",
      "City not found. Skipping...\n",
      "Processing Record 22 of Set 10 | seoul\n",
      "Processing Record 23 of Set 10 | bilma\n",
      "Processing Record 24 of Set 10 | nome\n",
      "Processing Record 25 of Set 10 | tsaratanana\n",
      "Processing Record 26 of Set 10 | sobolevo\n",
      "City not found. Skipping...\n",
      "Processing Record 27 of Set 10 | zhigansk\n",
      "Processing Record 28 of Set 10 | hami\n",
      "Processing Record 29 of Set 10 | katangli\n",
      "Processing Record 30 of Set 10 | chernyshevskiy\n",
      "City not found. Skipping...\n",
      "Processing Record 31 of Set 10 | smithers\n",
      "City not found. Skipping...\n",
      "Processing Record 32 of Set 10 | kawalu\n",
      "Processing Record 33 of Set 10 | chumikan\n",
      "Processing Record 34 of Set 10 | santa cruz\n",
      "Processing Record 35 of Set 10 | muros\n",
      "Processing Record 36 of Set 10 | denpasar\n",
      "Processing Record 37 of Set 10 | chishtian mandi\n",
      "City not found. Skipping...\n",
      "Processing Record 38 of Set 10 | zaysan\n",
      "Processing Record 39 of Set 10 | brae\n",
      "Processing Record 40 of Set 10 | corinto\n",
      "Processing Record 41 of Set 10 | pangnirtung\n",
      "Processing Record 42 of Set 10 | nipawin\n",
      "Processing Record 43 of Set 10 | beboto\n",
      "City not found. Skipping...\n",
      "Processing Record 44 of Set 10 | balabac\n",
      "Processing Record 45 of Set 10 | lumphat\n",
      "Processing Record 46 of Set 10 | dondo\n",
      "Processing Record 47 of Set 10 | kieta\n",
      "Processing Record 48 of Set 10 | jacqueville\n",
      "Processing Record 49 of Set 10 | bull savanna\n",
      "Processing Record 1 of Set 11 | hope\n",
      "Processing Record 2 of Set 11 | saint-pierre\n",
      "Processing Record 3 of Set 11 | lethem\n",
      "Processing Record 4 of Set 11 | kwinana\n",
      "City not found. Skipping...\n",
      "Processing Record 5 of Set 11 | jinka\n",
      "Processing Record 6 of Set 11 | poum\n",
      "Processing Record 7 of Set 11 | breves\n",
      "Processing Record 8 of Set 11 | husavik\n",
      "Processing Record 9 of Set 11 | deming\n",
      "Processing Record 10 of Set 11 | sulangan\n",
      "City not found. Skipping...\n",
      "Processing Record 11 of Set 11 | ural\n",
      "Processing Record 12 of Set 11 | lavrentiya\n",
      "Processing Record 13 of Set 11 | aadorf\n",
      "Processing Record 14 of Set 11 | bongandanga\n",
      "Processing Record 15 of Set 11 | kartaly\n",
      "Processing Record 16 of Set 11 | uithoorn\n",
      "Processing Record 17 of Set 11 | ojinaga\n",
      "Processing Record 18 of Set 11 | hyeres\n",
      "Processing Record 19 of Set 11 | toul\n",
      "Processing Record 20 of Set 11 | zaozerne\n",
      "Processing Record 21 of Set 11 | kabanjahe\n",
      "Processing Record 22 of Set 11 | sandakan\n",
      "Processing Record 23 of Set 11 | santa maria\n",
      "Processing Record 24 of Set 11 | viedma\n",
      "Processing Record 25 of Set 11 | grajau\n",
      "Processing Record 26 of Set 11 | beba\n",
      "Processing Record 27 of Set 11 | guaruja\n",
      "Processing Record 28 of Set 11 | khandbari\n",
      "Processing Record 29 of Set 11 | kang\n",
      "Processing Record 30 of Set 11 | singapore\n",
      "Processing Record 31 of Set 11 | antipovka\n",
      "Processing Record 32 of Set 11 | nishihara\n",
      "Processing Record 33 of Set 11 | uzunovo\n",
      "Processing Record 34 of Set 11 | gouyave\n",
      "Processing Record 35 of Set 11 | kenora\n",
      "Processing Record 36 of Set 11 | korla\n",
      "Processing Record 37 of Set 11 | kurmanayevka\n",
      "Processing Record 38 of Set 11 | constantine\n",
      "Processing Record 39 of Set 11 | kharan\n",
      "Processing Record 40 of Set 11 | lasa\n",
      "Processing Record 41 of Set 11 | nadvoitsy\n",
      "Processing Record 42 of Set 11 | margate\n",
      "Processing Record 43 of Set 11 | jurado\n",
      "Processing Record 44 of Set 11 | luganville\n",
      "Processing Record 45 of Set 11 | hecun\n",
      "Processing Record 46 of Set 11 | kaka\n",
      "Processing Record 47 of Set 11 | prince george\n",
      "Processing Record 48 of Set 11 | taltal\n",
      "Processing Record 49 of Set 11 | lufilufi\n",
      "------------------------------\n",
      "Data Retrieval Complete\n",
      "------------------------------\n"
     ]
    }
   ],
   "source": [
    "city_two = []\n",
    "cloudinesses = []\n",
    "dates = []\n",
    "humidities = []\n",
    "lats = []\n",
    "lngs = []\n",
    "max_temps = []\n",
    "wind_speeds = []\n",
    "countries = []\n",
    "\n",
    "# set initial count quantities for organization\n",
    "count_one = 0\n",
    "set_one = 1\n",
    "\n",
    "# loops for creating dataframe columns\n",
    "for city in cities:\n",
    "    try:\n",
    "        response = requests.get(query_url + city.replace(\" \",\"&\")).json()\n",
    "        cloudinesses.append(response['clouds']['all'])\n",
    "        countries.append(response['sys']['country'])\n",
    "        dates.append(response['dt'])\n",
    "        humidities.append(response['main']['humidity'])\n",
    "        lats.append(response['coord']['lat'])\n",
    "        lngs.append(response['coord']['lon'])\n",
    "        max_temps.append(response['main']['temp_max'])\n",
    "        wind_speeds.append(response['wind']['speed'])\n",
    "        if count_one > 48:\n",
    "            count_one = 1\n",
    "            set_one += 1\n",
    "            city_two.append(city)\n",
    "        else:\n",
    "            count_one += 1\n",
    "            city_two.append(city)\n",
    "        print(f\"Processing Record {count_one} of Set {set_one} | {city}\")\n",
    "    except Exception:\n",
    "        print(\"City not found. Skipping...\")\n",
    "print(\"------------------------------\\nData Retrieval Complete\\n------------------------------\")"
   ]
  },
  {
   "cell_type": "markdown",
   "metadata": {},
   "source": [
    "### Convert Raw Data to DataFrame\n",
    "* Export the city data into a .csv.\n",
    "* Display the DataFrame"
   ]
  },
  {
   "cell_type": "code",
   "execution_count": 1,
   "metadata": {},
   "outputs": [
    {
     "ename": "NameError",
     "evalue": "name 'city_two' is not defined",
     "output_type": "error",
     "traceback": [
      "\u001b[0;31m---------------------------------------------------------------------------\u001b[0m",
      "\u001b[0;31mNameError\u001b[0m                                 Traceback (most recent call last)",
      "\u001b[0;32m<ipython-input-1-7b38ff0d2dc0>\u001b[0m in \u001b[0;36m<module>\u001b[0;34m\u001b[0m\n\u001b[1;32m      1\u001b[0m weather_dict = {\n\u001b[0;32m----> 2\u001b[0;31m     \u001b[0;34m\"City\"\u001b[0m\u001b[0;34m:\u001b[0m\u001b[0mcity_two\u001b[0m\u001b[0;34m,\u001b[0m\u001b[0;34m\u001b[0m\u001b[0;34m\u001b[0m\u001b[0m\n\u001b[0m\u001b[1;32m      3\u001b[0m     \u001b[0;34m\"Cloudiness\"\u001b[0m\u001b[0;34m:\u001b[0m\u001b[0mcloudinesses\u001b[0m\u001b[0;34m,\u001b[0m\u001b[0;34m\u001b[0m\u001b[0;34m\u001b[0m\u001b[0m\n\u001b[1;32m      4\u001b[0m     \u001b[0;34m\"Country\"\u001b[0m\u001b[0;34m:\u001b[0m\u001b[0mcountries\u001b[0m\u001b[0;34m,\u001b[0m\u001b[0;34m\u001b[0m\u001b[0;34m\u001b[0m\u001b[0m\n\u001b[1;32m      5\u001b[0m     \u001b[0;34m\"Date\"\u001b[0m\u001b[0;34m:\u001b[0m\u001b[0mdates\u001b[0m\u001b[0;34m,\u001b[0m\u001b[0;34m\u001b[0m\u001b[0;34m\u001b[0m\u001b[0m\n",
      "\u001b[0;31mNameError\u001b[0m: name 'city_two' is not defined"
     ]
    }
   ],
   "source": [
    "weather_dict = {\n",
    "    \"City\":city_two,\n",
    "    \"Cloudiness\":cloudinesses,\n",
    "    \"Country\":countries,\n",
    "    \"Date\":dates,\n",
    "    \"Humidity\":humidities,\n",
    "    \"Lat\":lats,\n",
    "    \"Lng\":lngs,\n",
    "    \"Max Temp\":max_temps,\n",
    "    \"Wind Speed\":wind_speeds\n",
    "}\n"
   ]
  },
  {
   "cell_type": "code",
   "execution_count": 43,
   "metadata": {},
   "outputs": [
    {
     "data": {
      "text/html": [
       "<div>\n",
       "<style scoped>\n",
       "    .dataframe tbody tr th:only-of-type {\n",
       "        vertical-align: middle;\n",
       "    }\n",
       "\n",
       "    .dataframe tbody tr th {\n",
       "        vertical-align: top;\n",
       "    }\n",
       "\n",
       "    .dataframe thead th {\n",
       "        text-align: right;\n",
       "    }\n",
       "</style>\n",
       "<table border=\"1\" class=\"dataframe\">\n",
       "  <thead>\n",
       "    <tr style=\"text-align: right;\">\n",
       "      <th></th>\n",
       "      <th>City</th>\n",
       "      <th>Cloudiness</th>\n",
       "      <th>Country</th>\n",
       "      <th>Date</th>\n",
       "      <th>Humidity</th>\n",
       "      <th>Lat</th>\n",
       "      <th>Lng</th>\n",
       "      <th>Max Temp</th>\n",
       "      <th>Wind Speed</th>\n",
       "    </tr>\n",
       "  </thead>\n",
       "  <tbody>\n",
       "    <tr>\n",
       "      <td>0</td>\n",
       "      <td>ribeira grande</td>\n",
       "      <td>20</td>\n",
       "      <td>ES</td>\n",
       "      <td>1586373114</td>\n",
       "      <td>82</td>\n",
       "      <td>42.75</td>\n",
       "      <td>-8.44</td>\n",
       "      <td>17.78</td>\n",
       "      <td>2.10</td>\n",
       "    </tr>\n",
       "    <tr>\n",
       "      <td>1</td>\n",
       "      <td>puerto ayora</td>\n",
       "      <td>100</td>\n",
       "      <td>ES</td>\n",
       "      <td>1586373114</td>\n",
       "      <td>55</td>\n",
       "      <td>36.59</td>\n",
       "      <td>-6.23</td>\n",
       "      <td>19.00</td>\n",
       "      <td>5.70</td>\n",
       "    </tr>\n",
       "    <tr>\n",
       "      <td>2</td>\n",
       "      <td>bredasdorp</td>\n",
       "      <td>99</td>\n",
       "      <td>ZA</td>\n",
       "      <td>1586372795</td>\n",
       "      <td>72</td>\n",
       "      <td>-34.53</td>\n",
       "      <td>20.04</td>\n",
       "      <td>16.11</td>\n",
       "      <td>6.20</td>\n",
       "    </tr>\n",
       "    <tr>\n",
       "      <td>3</td>\n",
       "      <td>rikitea</td>\n",
       "      <td>51</td>\n",
       "      <td>PF</td>\n",
       "      <td>1586372785</td>\n",
       "      <td>81</td>\n",
       "      <td>-23.12</td>\n",
       "      <td>-134.97</td>\n",
       "      <td>24.94</td>\n",
       "      <td>5.26</td>\n",
       "    </tr>\n",
       "    <tr>\n",
       "      <td>4</td>\n",
       "      <td>katsuura</td>\n",
       "      <td>0</td>\n",
       "      <td>JP</td>\n",
       "      <td>1586372840</td>\n",
       "      <td>76</td>\n",
       "      <td>35.13</td>\n",
       "      <td>140.30</td>\n",
       "      <td>13.00</td>\n",
       "      <td>4.10</td>\n",
       "    </tr>\n",
       "  </tbody>\n",
       "</table>\n",
       "</div>"
      ],
      "text/plain": [
       "             City  Cloudiness Country        Date  Humidity    Lat     Lng  \\\n",
       "0  ribeira grande          20      ES  1586373114        82  42.75   -8.44   \n",
       "1    puerto ayora         100      ES  1586373114        55  36.59   -6.23   \n",
       "2      bredasdorp          99      ZA  1586372795        72 -34.53   20.04   \n",
       "3         rikitea          51      PF  1586372785        81 -23.12 -134.97   \n",
       "4        katsuura           0      JP  1586372840        76  35.13  140.30   \n",
       "\n",
       "   Max Temp  Wind Speed  \n",
       "0     17.78        2.10  \n",
       "1     19.00        5.70  \n",
       "2     16.11        6.20  \n",
       "3     24.94        5.26  \n",
       "4     13.00        4.10  "
      ]
     },
     "execution_count": 43,
     "metadata": {},
     "output_type": "execute_result"
    }
   ],
   "source": [
    "weather_dataframe.to_csv(\"weather_Output.csv\")\n",
    "weather_dataframe = pd.DataFrame(weather_dict)\n",
    "weather_dataframe.head()\n"
   ]
  },
  {
   "cell_type": "code",
   "execution_count": 8,
   "metadata": {},
   "outputs": [
    {
     "data": {
      "text/plain": [
       "City          539\n",
       "Cloudiness    539\n",
       "Country       539\n",
       "Date          539\n",
       "Humidity      539\n",
       "Lat           539\n",
       "Lng           539\n",
       "Max Temp      539\n",
       "Wind Speed    539\n",
       "dtype: int64"
      ]
     },
     "execution_count": 8,
     "metadata": {},
     "output_type": "execute_result"
    }
   ],
   "source": [
    "weather_dataframe.count()"
   ]
  },
  {
   "cell_type": "markdown",
   "metadata": {},
   "source": [
    "### Plotting the Data\n",
    "* Use proper labeling of the plots using plot titles (including date of analysis) and axes labels.\n",
    "* Save the plotted figures as .pngs."
   ]
  },
  {
   "cell_type": "markdown",
   "metadata": {},
   "source": [
    "#### Latitude vs. Temperature Plot"
   ]
  },
  {
   "cell_type": "code",
   "execution_count": 9,
   "metadata": {
    "scrolled": true
   },
   "outputs": [
    {
     "data": {
      "image/png": "[encoded data removed]",
      "text/plain": [
       "<Figure size 432x288 with 1 Axes>"
      ]
     },
     "metadata": {
      "needs_background": "light"
     },
     "output_type": "display_data"
    }
   ],
   "source": [
    "plt.scatter(weather_dataframe[\"Lat\"], weather_dataframe[\"Max Temp\"], edgecolors=\"black\",facecolors=\"skyblue\", marker=\"o\")\n",
    "\n",
    "# Incorporate the other graph properties\n",
    "plt.title(\"City Latitude vs.Max Temperature\")\n",
    "plt.ylabel(\"Max Temperature(f)\")\n",
    "plt.xlabel(\"Latitude\")\n",
    "plt.grid (b=True,which=\"major\",axis=\"both\",linestyle=\"-\",color=\"lightgrey\")\n",
    "\n",
    "# Save the figure\n",
    "plt.savefig(\"Images/TemperatureVsLatitude_Fig_1\")\n",
    "\n",
    "# Show plot\n",
    "plt.show()"
   ]
  },
  {
   "cell_type": "markdown",
   "metadata": {},
   "source": [
    "#### Latitude vs. Humidity Plot"
   ]
  },
  {
   "cell_type": "code",
   "execution_count": 10,
   "metadata": {},
   "outputs": [
    {
     "data": {
      "image/png": "[encoded data removed]",
      "text/plain": [
       "<Figure size 432x288 with 1 Axes>"
      ]
     },
     "metadata": {
      "needs_background": "light"
     },
     "output_type": "display_data"
    }
   ],
   "source": [
    "plt.scatter(weather_dataframe[\"Lat\"], weather_dataframe[\"Humidity\"], edgecolors=\"black\",facecolors=\"skyblue\", marker=\"o\")\n",
    "\n",
    "# Incorporate the other graph properties\n",
    "plt.title(\"City Latitude vs. Humidity\")\n",
    "plt.ylabel(\"Humidity\")\n",
    "plt.xlabel(\"Latitude\")\n",
    "plt.grid (b=True,which=\"major\",axis=\"both\",linestyle=\"-\",color=\"lightgrey\")\n",
    "\n",
    "# Save the figure\n",
    "plt.savefig(\"Images/HumidityVsLatitude_Fig_2\")\n",
    "\n",
    "# Show plot\n",
    "plt.show()"
   ]
  },
  {
   "cell_type": "markdown",
   "metadata": {},
   "source": [
    "#### Latitude vs. Cloudiness Plot"
   ]
  },
  {
   "cell_type": "code",
   "execution_count": 11,
   "metadata": {},
   "outputs": [
    {
     "data": {
      "image/png": "[encoded data removed]",
      "text/plain": [
       "<Figure size 432x288 with 1 Axes>"
      ]
     },
     "metadata": {
      "needs_background": "light"
     },
     "output_type": "display_data"
    }
   ],
   "source": [
    "plt.scatter(weather_dataframe[\"Lat\"], weather_dataframe[\"Cloudiness\"], edgecolors=\"black\",facecolors=\"skyblue\", marker=\"o\")\n",
    "\n",
    "# Incorporate the other graph properties\n",
    "plt.title(\"City Latitude vs. Cloudiness\")\n",
    "plt.ylabel(\"Cloudiness\")\n",
    "plt.xlabel(\"Latitude\")\n",
    "plt.grid (b=True,which=\"major\",axis=\"both\",linestyle=\"-\",color=\"lightgrey\")\n",
    "\n",
    "# Save the figure\n",
    "plt.savefig(\"Images/CloudinessVsLatitude_Fig_3\")\n",
    "\n",
    "# Show plot\n",
    "plt.show()"
   ]
  },
  {
   "cell_type": "markdown",
   "metadata": {},
   "source": [
    "#### Latitude vs. Wind Speed Plot"
   ]
  },
  {
   "cell_type": "code",
   "execution_count": 12,
   "metadata": {},
   "outputs": [
    {
     "data": {
      "image/png": "[encoded data removed]",
      "text/plain": [
       "<Figure size 432x288 with 1 Axes>"
      ]
     },
     "metadata": {
      "needs_background": "light"
     },
     "output_type": "display_data"
    }
   ],
   "source": [
    "plt.scatter(weather_dataframe[\"Lat\"], weather_dataframe[\"Wind Speed\"], edgecolors=\"black\",facecolors=\"skyblue\", marker=\"o\")\n",
    "\n",
    "# Incorporate the other graph properties\n",
    "plt.title(\"City Latitude vs. Wind Speed\")\n",
    "plt.ylabel(\"Wind Speed (mph)\")\n",
    "plt.xlabel(\"Latitude\")\n",
    "plt.grid (b=True,which=\"major\",axis=\"both\",linestyle=\"-\",color=\"lightgrey\")\n",
    "\n",
    "# Save the figure\n",
    "plt.savefig(\"Images/WindSpeedVsLatitude_Fig_4\")\n",
    "\n",
    "# Show plot\n",
    "plt.show()"
   ]
  },
  {
   "cell_type": "markdown",
   "metadata": {},
   "source": [
    "# Linear Regression"
   ]
  },
  {
   "cell_type": "code",
   "execution_count": 22,
   "metadata": {},
   "outputs": [],
   "source": [
    "# OPTIONAL: Create a function to create Linear Regression plots"
   ]
  },
  {
   "cell_type": "code",
   "execution_count": 23,
   "metadata": {},
   "outputs": [],
   "source": [
    "# Create Northern and Southern Hemisphere DataFrames\n",
    "northern_df = weather_dataframe.loc[pd.to_numeric(weather_dataframe[\"Lat\"]).astype(float) > 0, :]\n",
    "southern_df = weather_dataframe.loc[pd.to_numeric(weather_dataframe[\"Lat\"]).astype(float) < 0, :]"
   ]
  },
  {
   "cell_type": "markdown",
   "metadata": {},
   "source": [
    "####  Northern Hemisphere - Max Temp vs. Latitude Linear Regression"
   ]
  },
  {
   "cell_type": "code",
   "execution_count": 24,
   "metadata": {},
   "outputs": [
    {
     "name": "stdout",
     "output_type": "stream",
     "text": [
      "0      11.113260\n",
      "1      14.842645\n",
      "4      15.726558\n",
      "5      13.456234\n",
      "8      24.341682\n",
      "         ...    \n",
      "531     5.888487\n",
      "532    32.690421\n",
      "534    14.878971\n",
      "535    14.382526\n",
      "536     4.925869\n",
      "Name: Lat, Length: 382, dtype: float64\n",
      "y = -0.61x +36.99\n",
      "The r-squared is: 0.7272046831950483\n"
     ]
    },
    {
     "data": {
      "image/png": "[encoded data removed]",
      "text/plain": [
       "<Figure size 432x288 with 1 Axes>"
      ]
     },
     "metadata": {
      "needs_background": "light"
     },
     "output_type": "display_data"
    }
   ],
   "source": [
    "# Perform a linear regression on temperature vs. latitude\n",
    "\n",
    "x_values = northern_df['Lat']\n",
    "y_values = northern_df['Max Temp']\n",
    "\n",
    "(slope, intercept, rvalue, pvalue, stderr) = stats.linregress(x_values, y_values)\n",
    "\n",
    "# Get regression values\n",
    "regress_values = x_values * slope + intercept\n",
    "print(regress_values)\n",
    "\n",
    "line_eq = \"y = \" + str(round(slope,2)) + \"x +\" + str(round(intercept,2))\n",
    "print(line_eq)\n",
    "\n",
    "# Create Plot\n",
    "plt.scatter(x_values,y_values)\n",
    "plt.plot(x_values,regress_values,\"r-\")\n",
    "\n",
    "# Label plot and annotate the line equation\n",
    "plt.xlabel('Latitude')\n",
    "plt.ylabel('Temperature')\n",
    "plt.annotate(line_eq,(20,15),fontsize=15,color=\"red\")\n",
    "\n",
    "# Print r square value\n",
    "print(f\"The r-squared is: {rvalue**2}\")\n",
    "\n",
    "# Show plot\n",
    "plt.show()"
   ]
  },
  {
   "cell_type": "markdown",
   "metadata": {},
   "source": [
    "####  Southern Hemisphere - Max Temp vs. Latitude Linear Regression"
   ]
  },
  {
   "cell_type": "code",
   "execution_count": 32,
   "metadata": {},
   "outputs": [
    {
     "name": "stdout",
     "output_type": "stream",
     "text": [
      "2      18.470420\n",
      "3      21.682733\n",
      "6      18.501389\n",
      "7      18.889907\n",
      "9      18.718171\n",
      "         ...    \n",
      "516    21.437798\n",
      "518    21.525074\n",
      "533    23.819583\n",
      "537    21.040834\n",
      "538    24.286931\n",
      "Name: Lat, Length: 157, dtype: float64\n",
      "y = 0.28x +28.19\n",
      "The r-squared is: 0.4702095192131\n"
     ]
    },
    {
     "data": {
      "image/png": "[encoded data removed]",
      "text/plain": [
       "<Figure size 432x288 with 1 Axes>"
      ]
     },
     "metadata": {
      "needs_background": "light"
     },
     "output_type": "display_data"
    }
   ],
   "source": [
    "# Perform a linear regression on temperature vs. latitude\n",
    "\n",
    "x_values = southern_df['Lat']\n",
    "y_values = southern_df['Max Temp']\n",
    "\n",
    "(slope, intercept, rvalue, pvalue, stderr) = stats.linregress(x_values, y_values)\n",
    "\n",
    "# Get regression values\n",
    "regress_values = x_values * slope + intercept\n",
    "print(regress_values)\n",
    "\n",
    "line_eq = \"y = \" + str(round(slope,2)) + \"x +\" + str(round(intercept,2))\n",
    "print(line_eq)\n",
    "\n",
    "# Create Plot\n",
    "plt.scatter(x_values,y_values)\n",
    "plt.plot(x_values,regress_values,\"r-\")\n",
    "\n",
    "# Label plot and annotate the line equation\n",
    "plt.xlabel('Latitude')\n",
    "plt.ylabel('Temperature')\n",
    "plt.annotate(line_eq,(-25,15),fontsize=15,color=\"red\")\n",
    "\n",
    "# Print r square value\n",
    "print(f\"The r-squared is: {rvalue**2}\")\n",
    "\n",
    "# Show plot\n",
    "plt.show()"
   ]
  },
  {
   "cell_type": "markdown",
   "metadata": {},
   "source": [
    "####  Northern Hemisphere - Humidity (%) vs. Latitude Linear Regression"
   ]
  },
  {
   "cell_type": "code",
   "execution_count": 26,
   "metadata": {},
   "outputs": [
    {
     "name": "stdout",
     "output_type": "stream",
     "text": [
      "0      63.396236\n",
      "1      61.559987\n",
      "4      61.124772\n",
      "5      62.242618\n",
      "8      56.882919\n",
      "         ...    \n",
      "531    65.968772\n",
      "532    52.772227\n",
      "534    61.542102\n",
      "535    61.786537\n",
      "536    66.442739\n",
      "Name: Lat, Length: 382, dtype: float64\n",
      "y = 0.3x +50.65\n",
      "The r-squared is: 0.05973969070390396\n"
     ]
    },
    {
     "data": {
      "image/png": "[encoded data removed]",
      "text/plain": [
       "<Figure size 432x288 with 1 Axes>"
      ]
     },
     "metadata": {
      "needs_background": "light"
     },
     "output_type": "display_data"
    }
   ],
   "source": [
    "# Perform a linear regression on Humidity (%) vs. latitude\n",
    "\n",
    "x_values = northern_df['Lat']\n",
    "y_values = northern_df['Humidity']\n",
    "\n",
    "(slope, intercept, rvalue, pvalue, stderr) = stats.linregress(x_values, y_values)\n",
    "\n",
    "# Get regression values\n",
    "regress_values = x_values * slope + intercept\n",
    "print(regress_values)\n",
    "\n",
    "line_eq = \"y = \" + str(round(slope,2)) + \"x +\" + str(round(intercept,2))\n",
    "print(line_eq)\n",
    "\n",
    "# Create Plot\n",
    "plt.scatter(x_values,y_values)\n",
    "plt.plot(x_values,regress_values,\"r-\")\n",
    "\n",
    "# Label plot and annotate the line equation\n",
    "plt.xlabel('Latitude')\n",
    "plt.ylabel('Humidity')\n",
    "plt.annotate(line_eq,(20,15),fontsize=15,color=\"red\")\n",
    "\n",
    "# Print r square value\n",
    "print(f\"The r-squared is: {rvalue**2}\")\n",
    "\n",
    "# Show plot\n",
    "plt.show()"
   ]
  },
  {
   "cell_type": "markdown",
   "metadata": {},
   "source": [
    "####  Southern Hemisphere - Humidity (%) vs. Latitude Linear Regression"
   ]
  },
  {
   "cell_type": "code",
   "execution_count": 33,
   "metadata": {},
   "outputs": [
    {
     "name": "stdout",
     "output_type": "stream",
     "text": [
      "2      66.950790\n",
      "3      69.770877\n",
      "6      66.977977\n",
      "7      67.319057\n",
      "9      67.168290\n",
      "         ...    \n",
      "516    69.555848\n",
      "518    69.632468\n",
      "533    71.646815\n",
      "537    69.207354\n",
      "538    72.057100\n",
      "Name: Lat, Length: 157, dtype: float64\n",
      "y = 0.25x +75.49\n",
      "The r-squared is: 0.03150985539350273\n"
     ]
    },
    {
     "data": {
      "image/png": "[encoded data removed]",
      "text/plain": [
       "<Figure size 432x288 with 1 Axes>"
      ]
     },
     "metadata": {
      "needs_background": "light"
     },
     "output_type": "display_data"
    }
   ],
   "source": [
    "# Perform a linear regression on Humidity (%) vs. latitude\n",
    "\n",
    "x_values = southern_df['Lat']\n",
    "y_values = southern_df['Humidity']\n",
    "\n",
    "(slope, intercept, rvalue, pvalue, stderr) = stats.linregress(x_values, y_values)\n",
    "\n",
    "# Get regression values\n",
    "regress_values = x_values * slope + intercept\n",
    "print(regress_values)\n",
    "\n",
    "line_eq = \"y = \" + str(round(slope,2)) + \"x +\" + str(round(intercept,2))\n",
    "print(line_eq)\n",
    "\n",
    "# Create Plot\n",
    "plt.scatter(x_values,y_values)\n",
    "plt.plot(x_values,regress_values,\"r-\")\n",
    "\n",
    "# Label plot and annotate the line equation\n",
    "plt.xlabel('Latitude')\n",
    "plt.ylabel('Humidity')\n",
    "plt.annotate(line_eq,(-25,15),fontsize=15,color=\"red\")\n",
    "\n",
    "# Print r square value\n",
    "print(f\"The r-squared is: {rvalue**2}\")\n",
    "\n",
    "# Show plot\n",
    "plt.show()"
   ]
  },
  {
   "cell_type": "markdown",
   "metadata": {},
   "source": [
    "####  Northern Hemisphere - Cloudiness (%) vs. Latitude Linear Regression"
   ]
  },
  {
   "cell_type": "code",
   "execution_count": 28,
   "metadata": {},
   "outputs": [
    {
     "name": "stdout",
     "output_type": "stream",
     "text": [
      "0      45.725623\n",
      "1      44.534893\n",
      "4      44.252675\n",
      "5      44.977551\n",
      "8      41.502012\n",
      "         ...    \n",
      "531    47.393804\n",
      "532    38.836401\n",
      "534    44.523295\n",
      "535    44.681801\n",
      "536    47.701152\n",
      "Name: Lat, Length: 382, dtype: float64\n",
      "y = 0.19x +37.46\n",
      "The r-squared is: 0.010247980675273657\n"
     ]
    },
    {
     "data": {
      "image/png": "[encoded data removed]",
      "text/plain": [
       "<Figure size 432x288 with 1 Axes>"
      ]
     },
     "metadata": {
      "needs_background": "light"
     },
     "output_type": "display_data"
    }
   ],
   "source": [
    "# Perform a linear regression on Cloudiness vs. latitude\n",
    "\n",
    "x_values = northern_df['Lat']\n",
    "y_values = northern_df['Cloudiness']\n",
    "\n",
    "(slope, intercept, rvalue, pvalue, stderr) = stats.linregress(x_values, y_values)\n",
    "\n",
    "# Get regression values\n",
    "regress_values = x_values * slope + intercept\n",
    "print(regress_values)\n",
    "\n",
    "line_eq = \"y = \" + str(round(slope,2)) + \"x +\" + str(round(intercept,2))\n",
    "print(line_eq)\n",
    "\n",
    "# Create Plot\n",
    "plt.scatter(x_values,y_values)\n",
    "plt.plot(x_values,regress_values,\"r-\")\n",
    "\n",
    "# Label plot and annotate the line equation\n",
    "plt.xlabel('Latitude')\n",
    "plt.ylabel('Cloudiness')\n",
    "plt.annotate(line_eq,(20,15),fontsize=15,color=\"red\")\n",
    "\n",
    "# Print r square value\n",
    "print(f\"The r-squared is: {rvalue**2}\")\n",
    "\n",
    "# Show plot\n",
    "plt.show()"
   ]
  },
  {
   "cell_type": "markdown",
   "metadata": {},
   "source": [
    "####  Southern Hemisphere - Cloudiness (%) vs. Latitude Linear Regression"
   ]
  },
  {
   "cell_type": "code",
   "execution_count": 36,
   "metadata": {},
   "outputs": [
    {
     "name": "stdout",
     "output_type": "stream",
     "text": [
      "2      41.923582\n",
      "3      48.944290\n",
      "6      41.991267\n",
      "7      42.840397\n",
      "9      42.465057\n",
      "         ...    \n",
      "516    48.408969\n",
      "518    48.599716\n",
      "533    53.614507\n",
      "537    47.541379\n",
      "538    54.635925\n",
      "Name: Lat, Length: 157, dtype: float64\n",
      "y = 0.62x +63.17\n",
      "The r-squared is: 0.04911901750340354\n"
     ]
    },
    {
     "data": {
      "image/png": "[encoded data removed]",
      "text/plain": [
       "<Figure size 432x288 with 1 Axes>"
      ]
     },
     "metadata": {
      "needs_background": "light"
     },
     "output_type": "display_data"
    }
   ],
   "source": [
    "# Perform a linear regression on Cloudiness vs. latitude\n",
    "\n",
    "x_values = southern_df['Lat']\n",
    "y_values = southern_df['Cloudiness']\n",
    "\n",
    "(slope, intercept, rvalue, pvalue, stderr) = stats.linregress(x_values, y_values)\n",
    "\n",
    "# Get regression values\n",
    "regress_values = x_values * slope + intercept\n",
    "print(regress_values)\n",
    "\n",
    "line_eq = \"y = \" + str(round(slope,2)) + \"x +\" + str(round(intercept,2))\n",
    "print(line_eq)\n",
    "\n",
    "# Create Plot\n",
    "plt.scatter(x_values,y_values)\n",
    "plt.plot(x_values,regress_values,\"r-\")\n",
    "\n",
    "# Label plot and annotate the line equation\n",
    "plt.xlabel('Latitude')\n",
    "plt.ylabel('Cloudiness')\n",
    "plt.annotate(line_eq,(-25,15),fontsize=15,color=\"red\")\n",
    "\n",
    "# Print r square value\n",
    "print(f\"The r-squared is: {rvalue**2}\")\n",
    "\n",
    "# Show plot\n",
    "plt.show()"
   ]
  },
  {
   "cell_type": "markdown",
   "metadata": {},
   "source": [
    "####  Northern Hemisphere - Wind Speed (mph) vs. Latitude Linear Regression"
   ]
  },
  {
   "cell_type": "code",
   "execution_count": 38,
   "metadata": {},
   "outputs": [
    {
     "name": "stdout",
     "output_type": "stream",
     "text": [
      "0      3.501294\n",
      "1      3.431021\n",
      "4      3.414366\n",
      "5      3.457145\n",
      "8      3.252032\n",
      "         ...   \n",
      "531    3.599743\n",
      "532    3.094718\n",
      "534    3.430337\n",
      "535    3.439691\n",
      "536    3.617882\n",
      "Name: Lat, Length: 382, dtype: float64\n",
      "y = 0.01x +3.01\n",
      "The r-squared is: 0.008943665465404751\n"
     ]
    },
    {
     "data": {
      "image/png": "[encoded data removed]",
      "text/plain": [
       "<Figure size 432x288 with 1 Axes>"
      ]
     },
     "metadata": {
      "needs_background": "light"
     },
     "output_type": "display_data"
    }
   ],
   "source": [
    "# Perform a linear regression on Wind Speed(mph) vs. latitude\n",
    "\n",
    "x_values = northern_df['Lat']\n",
    "y_values = northern_df['Wind Speed']\n",
    "\n",
    "(slope, intercept, rvalue, pvalue, stderr) = stats.linregress(x_values, y_values)\n",
    "\n",
    "# Get regression values\n",
    "regress_values = x_values * slope + intercept\n",
    "print(regress_values)\n",
    "\n",
    "line_eq = \"y = \" + str(round(slope,2)) + \"x +\" + str(round(intercept,2))\n",
    "print(line_eq)\n",
    "\n",
    "# Create Plot\n",
    "plt.scatter(x_values,y_values)\n",
    "plt.plot(x_values,regress_values,\"r-\")\n",
    "\n",
    "# Label plot and annotate the line equation\n",
    "plt.xlabel('Latitude')\n",
    "plt.ylabel('Wind Speed')\n",
    "plt.annotate(line_eq,(20,10),fontsize=15,color=\"red\")\n",
    "\n",
    "# Print r square value\n",
    "print(f\"The r-squared is: {rvalue**2}\")\n",
    "\n",
    "# Show plot\n",
    "plt.show()"
   ]
  },
  {
   "cell_type": "markdown",
   "metadata": {},
   "source": [
    "####  Southern Hemisphere - Wind Speed (mph) vs. Latitude Linear Regression"
   ]
  },
  {
   "cell_type": "code",
   "execution_count": 41,
   "metadata": {},
   "outputs": [
    {
     "name": "stdout",
     "output_type": "stream",
     "text": [
      "2      4.015403\n",
      "3      3.573381\n",
      "6      4.011142\n",
      "7      3.957681\n",
      "9      3.981312\n",
      "         ...   \n",
      "516    3.607085\n",
      "518    3.595076\n",
      "533    3.279346\n",
      "537    3.661708\n",
      "538    3.215038\n",
      "Name: Lat, Length: 157, dtype: float64\n",
      "y = -0.04x +2.68\n",
      "The r-squared is: 0.03786251359672081\n"
     ]
    },
    {
     "data": {
      "image/png": "[encoded data removed]",
      "text/plain": [
       "<Figure size 432x288 with 1 Axes>"
      ]
     },
     "metadata": {
      "needs_background": "light"
     },
     "output_type": "display_data"
    }
   ],
   "source": [
    "# Perform a linear regression on Wind Speed(mph) vs. latitude\n",
    "\n",
    "x_values = southern_df['Lat']\n",
    "y_values = southern_df['Wind Speed']\n",
    "\n",
    "(slope, intercept, rvalue, pvalue, stderr) = stats.linregress(x_values, y_values)\n",
    "\n",
    "# Get regression values\n",
    "regress_values = x_values * slope + intercept\n",
    "print(regress_values)\n",
    "\n",
    "line_eq = \"y = \" + str(round(slope,2)) + \"x +\" + str(round(intercept,2))\n",
    "print(line_eq)\n",
    "\n",
    "# Create Plot\n",
    "plt.scatter(x_values,y_values)\n",
    "plt.plot(x_values,regress_values,\"r-\")\n",
    "\n",
    "# Label plot and annotate the line equation\n",
    "plt.xlabel('Latitude')\n",
    "plt.ylabel('Wind Speed')\n",
    "plt.annotate(line_eq,(-25,10),fontsize=15,color=\"red\")\n",
    "\n",
    "# Print r square value\n",
    "print(f\"The r-squared is: {rvalue**2}\")\n",
    "\n",
    "# Show plot\n",
    "plt.show()"
   ]
  },
  {
   "cell_type": "code",
   "execution_count": null,
   "metadata": {},
   "outputs": [],
   "source": []
  }
 ],
 "metadata": {
  "anaconda-cloud": {},
  "kernel_info": {
   "name": "python3"
  },
  "kernelspec": {
   "display_name": "Python 3",
   "language": "python",
   "name": "python3"
  },
  "language_info": {
   "codemirror_mode": {
    "name": "ipython",
    "version": 3
   },
   "file_extension": ".py",
   "mimetype": "text/x-python",
   "name": "python",
   "nbconvert_exporter": "python",
   "pygments_lexer": "ipython3",
   "version": "3.7.4"
  },
  "latex_envs": {
   "LaTeX_envs_menu_present": true,
   "autoclose": false,
   "autocomplete": true,
   "bibliofile": "biblio.bib",
   "cite_by": "apalike",
   "current_citInitial": 1,
   "eqLabelWithNumbers": true,
   "eqNumInitial": 1,
   "hotkeys": {
    "equation": "Ctrl-E",
    "itemize": "Ctrl-I"
   },
   "labels_anchors": false,
   "latex_user_defs": false,
   "report_style_numbering": false,
   "user_envs_cfg": false
  },
  "nteract": {
   "version": "0.12.3"
  }
 },
 "nbformat": 4,
 "nbformat_minor": 2
}
